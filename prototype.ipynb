{
 "cells": [
  {
   "cell_type": "code",
   "execution_count": 89,
   "metadata": {},
   "outputs": [
    {
     "name": "stdout",
     "output_type": "stream",
     "text": [
      "CSV file 'data\\Uncleaned_DS_Jobs.csv' loaded successfully.\n"
     ]
    }
   ],
   "source": [
    "import data_ingestion\n",
    "import os\n",
    "import pandas as pd\n",
    "from typing import Any\n",
    "\n",
    "# Define constants for dataset details and paths\n",
    "DATASET_ORIGIN = 'rashikrahmanpritom'\n",
    "DATASET_NAME = 'data-science-job-posting-on-glassdoor'\n",
    "DOWNLOAD_PATH = 'data'\n",
    "\n",
    "# Call the function to download and unzip the dataset\n",
    "# data_ingestion.download_and_unzip_kaggle_dataset(DATASET_ORIGIN, DATASET_NAME, DOWNLOAD_PATH)\n",
    "\n",
    "csv_file_path = os.path.join(DOWNLOAD_PATH, 'Uncleaned_DS_Jobs.csv')\n",
    "df = data_ingestion.load_csv(csv_file_path)"
   ]
  },
  {
   "cell_type": "code",
   "execution_count": 90,
   "metadata": {},
   "outputs": [],
   "source": [
    "def normalize_column_names(df):\n",
    "    \"\"\"\n",
    "    Convert DataFrame column names to lowercase and replace spaces with underscores.\n",
    "    This function might break YAGNI rule but it's defined in case more complex rules are needed for normalization.\n",
    "    \n",
    "    Parameters:\n",
    "        df (pd.DataFrame): The DataFrame with original column names.\n",
    "        \n",
    "    Returns:\n",
    "        pd.DataFrame: The DataFrame with normalized column names.\n",
    "    \"\"\"\n",
    "    df.columns = df.columns.str.lower().str.replace(' ', '_')\n",
    "    return df\n",
    "\n",
    "df = normalize_column_names(df)"
   ]
  },
  {
   "cell_type": "code",
   "execution_count": 91,
   "metadata": {},
   "outputs": [],
   "source": [
    "df = df.drop('index', axis=1)\n",
    "df = df.drop('job_description', axis=1)"
   ]
  },
  {
   "cell_type": "code",
   "execution_count": 92,
   "metadata": {},
   "outputs": [],
   "source": [
    "# Create a new column with the text proceeding the newline character\n",
    "# df[['company_name', 'company_star_rating']] = df['company_name'].str.split('\\n', expand=True)\n",
    "df['company_name'] = df['company_name'].str.split('\\n').str[0]"
   ]
  },
  {
   "cell_type": "code",
   "execution_count": 93,
   "metadata": {},
   "outputs": [],
   "source": [
    "df['salary_estimate'] = df['salary_estimate'].str.extract(r'(\\$\\d+K-\\$\\d+K)')\n",
    "# df[['salary_min', 'salary_max']] = df['salary_estimate'].str.extract(r'\\$(\\d+)K-\\$(\\d+)K')\n",
    "# df['salary_min'] = df['salary_min'].astype(int) * 1000\n",
    "# df['salary_max'] = df['salary_max'].astype(int) * 1000\n",
    "\n",
    "# df[['salary_min', 'salary_max']] = df['Salary Estimate'].str.extract(r'\\$(\\d+)[Kk]-\\$(\\d+)[Kk]')\n",
    "# df['salary_min'] = df['salary_min'].astype(int) * 1000\n",
    "# df['salary_max'] = df['salary_max'].astype(int) * 1000"
   ]
  },
  {
   "cell_type": "code",
   "execution_count": 10,
   "metadata": {},
   "outputs": [],
   "source": [
    "# df['location_city'] = df['Location'].str.split(',').str[0]\n",
    "# df['location_state'] = df['Location'].str.split(',').str[1].str.strip()\n",
    "\n",
    "# df['headquarters_city'] = df['Headquarters'].str.split(',').str[0]\n",
    "# df['headquarters_state'] = df['Headquarters'].str.split(',').str[1].str.strip()\n",
    "\n",
    "# df['location_city'] \n",
    "# df['location_state']\n",
    "# df['headquarters_city']\n",
    "# df['headquarters_state']"
   ]
  },
  {
   "cell_type": "code",
   "execution_count": 94,
   "metadata": {},
   "outputs": [],
   "source": [
    "def replace_vals_in_cols(df: pd.DataFrame, cols: list[str], old_val: Any, new_val: Any) -> pd.DataFrame:\n",
    "    \"\"\"\n",
    "    Replace occurrences of `old_val` with `new_val` in specified columns of the DataFrame.\n",
    "\n",
    "    Args:\n",
    "        df (pd.DataFrame): The DataFrame to modify.\n",
    "        cols (list[str]): A list of column names in which to perform the replacement.\n",
    "        old_val (Any): The value to be replaced.\n",
    "        new_val (Any): The value to replace `old_val` with.\n",
    "\n",
    "    Returns:\n",
    "        pd.DataFrame: The DataFrame with the specified values replaced.\n",
    "    \"\"\"\n",
    "    for col in cols:\n",
    "        df[col] = df[col].replace(old_val, new_val)\n",
    "    \n",
    "    return df\n",
    "\n",
    "cols_list = ['rating', 'headquarters', 'size', 'founded', 'type_of_ownership', 'industry', 'sector', 'revenue', 'competitors']\n",
    "df = replace_vals_in_cols(df, cols_list, ['-1', -1, -1.0], pd.NA)"
   ]
  }
 ],
 "metadata": {
  "kernelspec": {
   "display_name": "venv",
   "language": "python",
   "name": "python3"
  },
  "language_info": {
   "codemirror_mode": {
    "name": "ipython",
    "version": 3
   },
   "file_extension": ".py",
   "mimetype": "text/x-python",
   "name": "python",
   "nbconvert_exporter": "python",
   "pygments_lexer": "ipython3",
   "version": "3.11.1"
  }
 },
 "nbformat": 4,
 "nbformat_minor": 2
}
